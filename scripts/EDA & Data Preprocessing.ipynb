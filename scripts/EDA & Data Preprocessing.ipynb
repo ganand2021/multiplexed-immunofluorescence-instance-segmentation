{
 "cells": [
  {
   "attachments": {},
   "cell_type": "markdown",
   "metadata": {},
   "source": [
    "# Exploratory Data Analysis & Data Preprocessing"
   ]
  },
  {
   "attachments": {},
   "cell_type": "markdown",
   "metadata": {},
   "source": [
    "*In this IPython notebook, I'll be detailing all the steps I took to properly understand the information that the data I've collected the paper, \"Cross-platform dataset of multiplex fluorescent cellular object image annotations\" has to offer and figure out the steps that need to be taken for preprocessing the data*"
   ]
  },
  {
   "attachments": {},
   "cell_type": "markdown",
   "metadata": {},
   "source": [
    "##### Imports"
   ]
  },
  {
   "cell_type": "code",
   "execution_count": 63,
   "metadata": {},
   "outputs": [],
   "source": [
    "import os\n",
    "import numpy as np\n",
    "import imageio.v3 as imageio\n",
    "import matplotlib.pyplot as plt\n",
    "import pandas as pd\n",
    "from skimage.io import imread, imsave, imshow\n",
    "from PIL import Image\n",
    "import shutil\n",
    "# import imagej\n",
    "# ij = imagej.init(r'C:\\Users\\gopik\\Downloads\\fiji-win64\\Fiji.app')"
   ]
  },
  {
   "attachments": {},
   "cell_type": "markdown",
   "metadata": {},
   "source": [
    "##### Helper Functions"
   ]
  },
  {
   "cell_type": "code",
   "execution_count": 30,
   "metadata": {},
   "outputs": [],
   "source": [
    "def get_files_wrt_extension(path, file_extension):\n",
    "    \"\"\"Get all files with a given extension in the given directory\"\"\"\n",
    "    file_paths = []\n",
    "    for root, _, files in os.walk(path):\n",
    "        for file in files:\n",
    "            if file.endswith(file_extension):\n",
    "                file_paths.append(os.path.join(root, file))\n",
    "    return file_paths"
   ]
  },
  {
   "cell_type": "code",
   "execution_count": 60,
   "metadata": {},
   "outputs": [],
   "source": [
    "def crop_image(input_path, output_path, left, upper, right, lower):\n",
    "    image = Image.open(input_path)\n",
    "    cropped_image = image.crop((left, upper, right, lower))\n",
    "    cropped_image.save(output_path)"
   ]
  },
  {
   "attachments": {},
   "cell_type": "markdown",
   "metadata": {},
   "source": [
    "##### Loading the Data"
   ]
  },
  {
   "cell_type": "code",
   "execution_count": 31,
   "metadata": {},
   "outputs": [],
   "source": [
    "IMG_DIR = r'D:\\SimBioSys - main\\data\\organized_data\\image'\n",
    "MASK_DIR =r'D:\\SimBioSys - main\\data\\organized_data\\mask'"
   ]
  },
  {
   "attachments": {},
   "cell_type": "markdown",
   "metadata": {},
   "source": [
    "##### Image Data"
   ]
  },
  {
   "cell_type": "code",
   "execution_count": 32,
   "metadata": {},
   "outputs": [],
   "source": [
    "image_paths = get_files_wrt_extension(IMG_DIR, \".tif\")"
   ]
  },
  {
   "cell_type": "code",
   "execution_count": 33,
   "metadata": {},
   "outputs": [],
   "source": [
    "image_array_list = [np.array(imread(img)) for img in image_paths]"
   ]
  },
  {
   "cell_type": "code",
   "execution_count": 34,
   "metadata": {},
   "outputs": [
    {
     "name": "stdout",
     "output_type": "stream",
     "text": [
      "161\n"
     ]
    }
   ],
   "source": [
    "#Number of Images\n",
    "print(len(image_array_list))"
   ]
  },
  {
   "cell_type": "code",
   "execution_count": 35,
   "metadata": {},
   "outputs": [],
   "source": [
    "#Dimensions\n",
    "img_dims = [img.shape for img in image_array_list]"
   ]
  },
  {
   "cell_type": "code",
   "execution_count": 36,
   "metadata": {},
   "outputs": [
    {
     "name": "stdout",
     "output_type": "stream",
     "text": [
      "[(5, 800, 800) (7, 400, 400, 4) (7, 800, 800) (8, 400, 400)\n",
      " (8, 400, 400, 4) (8, 2008, 2684)]\n"
     ]
    },
    {
     "name": "stderr",
     "output_type": "stream",
     "text": [
      "c:\\Users\\gopik\\anaconda3\\envs\\programming\\lib\\site-packages\\numpy\\lib\\arraysetops.py:272: VisibleDeprecationWarning: Creating an ndarray from ragged nested sequences (which is a list-or-tuple of lists-or-tuples-or ndarrays with different lengths or shapes) is deprecated. If you meant to do this, you must specify 'dtype=object' when creating the ndarray.\n",
      "  ar = np.asanyarray(ar)\n"
     ]
    }
   ],
   "source": [
    "#Unique dimensions for images in the dataset\n",
    "print(np.unique(img_dims))"
   ]
  },
  {
   "cell_type": "code",
   "execution_count": 37,
   "metadata": {},
   "outputs": [
    {
     "name": "stdout",
     "output_type": "stream",
     "text": [
      "{(5, 800, 800): 15, (7, 400, 400, 4): 5, (7, 800, 800): 3, (8, 400, 400): 132, (8, 400, 400, 4): 5, (8, 2008, 2684): 1}\n"
     ]
    }
   ],
   "source": [
    "#Number of images for each set of dimensions\n",
    "dim, count = np.unique(img_dims, return_counts=True)\n",
    "img_counter = {d : c for d, c in zip(dim, count)}\n",
    "print(img_counter)"
   ]
  },
  {
   "cell_type": "code",
   "execution_count": 38,
   "metadata": {},
   "outputs": [
    {
     "data": {
      "image/png": "[encoded data removed]",
      "text/plain": [
       "<Figure size 1000x600 with 1 Axes>"
      ]
     },
     "metadata": {},
     "output_type": "display_data"
    }
   ],
   "source": [
    "plt.figure(figsize=(10, 6)) \n",
    "plt.bar(range(len(dim)), count)\n",
    "plt.xticks(range(len(dim)), dim)\n",
    "plt.show()"
   ]
  },
  {
   "attachments": {},
   "cell_type": "markdown",
   "metadata": {},
   "source": [
    "*From the above results, we can ascertain that the input images in the dataset have differring dimensions and we would need to take steps to bring all the images to a specific dimensions*\n",
    "\n",
    "**Task 1: Resize Input Images**\n",
    "\n",
    "*Since a huge chunk of the dataset is of the dimension (8, 400, 400), let's visualize the remaining to explore possible avenues to bring all the images to a common dimension*"
   ]
  },
  {
   "cell_type": "code",
   "execution_count": 39,
   "metadata": {},
   "outputs": [],
   "source": [
    "required_image_paths = []\n",
    "required_image_dims = []\n",
    "required_dims = [(5, 800, 800), (7, 400, 400, 4), (7, 800, 800), (8, 400, 400, 4), (8, 2008, 2684)]\n",
    "for img in image_paths:\n",
    "    img_array = np.array(imread(img))\n",
    "    if img_array.shape in required_dims:\n",
    "        required_image_paths.append(img)\n",
    "        required_image_dims.append(img_array.shape)"
   ]
  },
  {
   "cell_type": "code",
   "execution_count": 40,
   "metadata": {},
   "outputs": [
    {
     "data": {
      "text/html": [
       "<div>\n",
       "<style scoped>\n",
       "    .dataframe tbody tr th:only-of-type {\n",
       "        vertical-align: middle;\n",
       "    }\n",
       "\n",
       "    .dataframe tbody tr th {\n",
       "        vertical-align: top;\n",
       "    }\n",
       "\n",
       "    .dataframe thead th {\n",
       "        text-align: right;\n",
       "    }\n",
       "</style>\n",
       "<table border=\"1\" class=\"dataframe\">\n",
       "  <thead>\n",
       "    <tr style=\"text-align: right;\">\n",
       "      <th></th>\n",
       "      <th>path</th>\n",
       "      <th>dims</th>\n",
       "    </tr>\n",
       "  </thead>\n",
       "  <tbody>\n",
       "    <tr>\n",
       "      <th>14</th>\n",
       "      <td>D:\\SimBioSys - main\\data\\organized_data\\image\\...</td>\n",
       "      <td>(5, 800, 800)</td>\n",
       "    </tr>\n",
       "    <tr>\n",
       "      <th>23</th>\n",
       "      <td>D:\\SimBioSys - main\\data\\organized_data\\image\\...</td>\n",
       "      <td>(5, 800, 800)</td>\n",
       "    </tr>\n",
       "    <tr>\n",
       "      <th>22</th>\n",
       "      <td>D:\\SimBioSys - main\\data\\organized_data\\image\\...</td>\n",
       "      <td>(5, 800, 800)</td>\n",
       "    </tr>\n",
       "    <tr>\n",
       "      <th>21</th>\n",
       "      <td>D:\\SimBioSys - main\\data\\organized_data\\image\\...</td>\n",
       "      <td>(5, 800, 800)</td>\n",
       "    </tr>\n",
       "    <tr>\n",
       "      <th>20</th>\n",
       "      <td>D:\\SimBioSys - main\\data\\organized_data\\image\\...</td>\n",
       "      <td>(5, 800, 800)</td>\n",
       "    </tr>\n",
       "    <tr>\n",
       "      <th>19</th>\n",
       "      <td>D:\\SimBioSys - main\\data\\organized_data\\image\\...</td>\n",
       "      <td>(5, 800, 800)</td>\n",
       "    </tr>\n",
       "    <tr>\n",
       "      <th>18</th>\n",
       "      <td>D:\\SimBioSys - main\\data\\organized_data\\image\\...</td>\n",
       "      <td>(5, 800, 800)</td>\n",
       "    </tr>\n",
       "    <tr>\n",
       "      <th>17</th>\n",
       "      <td>D:\\SimBioSys - main\\data\\organized_data\\image\\...</td>\n",
       "      <td>(5, 800, 800)</td>\n",
       "    </tr>\n",
       "    <tr>\n",
       "      <th>16</th>\n",
       "      <td>D:\\SimBioSys - main\\data\\organized_data\\image\\...</td>\n",
       "      <td>(5, 800, 800)</td>\n",
       "    </tr>\n",
       "    <tr>\n",
       "      <th>15</th>\n",
       "      <td>D:\\SimBioSys - main\\data\\organized_data\\image\\...</td>\n",
       "      <td>(5, 800, 800)</td>\n",
       "    </tr>\n",
       "    <tr>\n",
       "      <th>27</th>\n",
       "      <td>D:\\SimBioSys - main\\data\\organized_data\\image\\...</td>\n",
       "      <td>(5, 800, 800)</td>\n",
       "    </tr>\n",
       "    <tr>\n",
       "      <th>13</th>\n",
       "      <td>D:\\SimBioSys - main\\data\\organized_data\\image\\...</td>\n",
       "      <td>(5, 800, 800)</td>\n",
       "    </tr>\n",
       "    <tr>\n",
       "      <th>28</th>\n",
       "      <td>D:\\SimBioSys - main\\data\\organized_data\\image\\...</td>\n",
       "      <td>(5, 800, 800)</td>\n",
       "    </tr>\n",
       "    <tr>\n",
       "      <th>11</th>\n",
       "      <td>D:\\SimBioSys - main\\data\\organized_data\\image\\...</td>\n",
       "      <td>(5, 800, 800)</td>\n",
       "    </tr>\n",
       "    <tr>\n",
       "      <th>12</th>\n",
       "      <td>D:\\SimBioSys - main\\data\\organized_data\\image\\...</td>\n",
       "      <td>(5, 800, 800)</td>\n",
       "    </tr>\n",
       "    <tr>\n",
       "      <th>4</th>\n",
       "      <td>D:\\SimBioSys - main\\data\\organized_data\\image\\...</td>\n",
       "      <td>(7, 400, 400, 4)</td>\n",
       "    </tr>\n",
       "    <tr>\n",
       "      <th>3</th>\n",
       "      <td>D:\\SimBioSys - main\\data\\organized_data\\image\\...</td>\n",
       "      <td>(7, 400, 400, 4)</td>\n",
       "    </tr>\n",
       "    <tr>\n",
       "      <th>2</th>\n",
       "      <td>D:\\SimBioSys - main\\data\\organized_data\\image\\...</td>\n",
       "      <td>(7, 400, 400, 4)</td>\n",
       "    </tr>\n",
       "    <tr>\n",
       "      <th>1</th>\n",
       "      <td>D:\\SimBioSys - main\\data\\organized_data\\image\\...</td>\n",
       "      <td>(7, 400, 400, 4)</td>\n",
       "    </tr>\n",
       "    <tr>\n",
       "      <th>0</th>\n",
       "      <td>D:\\SimBioSys - main\\data\\organized_data\\image\\...</td>\n",
       "      <td>(7, 400, 400, 4)</td>\n",
       "    </tr>\n",
       "    <tr>\n",
       "      <th>24</th>\n",
       "      <td>D:\\SimBioSys - main\\data\\organized_data\\image\\...</td>\n",
       "      <td>(7, 800, 800)</td>\n",
       "    </tr>\n",
       "    <tr>\n",
       "      <th>25</th>\n",
       "      <td>D:\\SimBioSys - main\\data\\organized_data\\image\\...</td>\n",
       "      <td>(7, 800, 800)</td>\n",
       "    </tr>\n",
       "    <tr>\n",
       "      <th>26</th>\n",
       "      <td>D:\\SimBioSys - main\\data\\organized_data\\image\\...</td>\n",
       "      <td>(7, 800, 800)</td>\n",
       "    </tr>\n",
       "    <tr>\n",
       "      <th>9</th>\n",
       "      <td>D:\\SimBioSys - main\\data\\organized_data\\image\\...</td>\n",
       "      <td>(8, 400, 400, 4)</td>\n",
       "    </tr>\n",
       "    <tr>\n",
       "      <th>8</th>\n",
       "      <td>D:\\SimBioSys - main\\data\\organized_data\\image\\...</td>\n",
       "      <td>(8, 400, 400, 4)</td>\n",
       "    </tr>\n",
       "    <tr>\n",
       "      <th>7</th>\n",
       "      <td>D:\\SimBioSys - main\\data\\organized_data\\image\\...</td>\n",
       "      <td>(8, 400, 400, 4)</td>\n",
       "    </tr>\n",
       "    <tr>\n",
       "      <th>6</th>\n",
       "      <td>D:\\SimBioSys - main\\data\\organized_data\\image\\...</td>\n",
       "      <td>(8, 400, 400, 4)</td>\n",
       "    </tr>\n",
       "    <tr>\n",
       "      <th>5</th>\n",
       "      <td>D:\\SimBioSys - main\\data\\organized_data\\image\\...</td>\n",
       "      <td>(8, 400, 400, 4)</td>\n",
       "    </tr>\n",
       "    <tr>\n",
       "      <th>10</th>\n",
       "      <td>D:\\SimBioSys - main\\data\\organized_data\\image\\...</td>\n",
       "      <td>(8, 2008, 2684)</td>\n",
       "    </tr>\n",
       "  </tbody>\n",
       "</table>\n",
       "</div>"
      ],
      "text/plain": [
       "                                                 path              dims\n",
       "14  D:\\SimBioSys - main\\data\\organized_data\\image\\...     (5, 800, 800)\n",
       "23  D:\\SimBioSys - main\\data\\organized_data\\image\\...     (5, 800, 800)\n",
       "22  D:\\SimBioSys - main\\data\\organized_data\\image\\...     (5, 800, 800)\n",
       "21  D:\\SimBioSys - main\\data\\organized_data\\image\\...     (5, 800, 800)\n",
       "20  D:\\SimBioSys - main\\data\\organized_data\\image\\...     (5, 800, 800)\n",
       "19  D:\\SimBioSys - main\\data\\organized_data\\image\\...     (5, 800, 800)\n",
       "18  D:\\SimBioSys - main\\data\\organized_data\\image\\...     (5, 800, 800)\n",
       "17  D:\\SimBioSys - main\\data\\organized_data\\image\\...     (5, 800, 800)\n",
       "16  D:\\SimBioSys - main\\data\\organized_data\\image\\...     (5, 800, 800)\n",
       "15  D:\\SimBioSys - main\\data\\organized_data\\image\\...     (5, 800, 800)\n",
       "27  D:\\SimBioSys - main\\data\\organized_data\\image\\...     (5, 800, 800)\n",
       "13  D:\\SimBioSys - main\\data\\organized_data\\image\\...     (5, 800, 800)\n",
       "28  D:\\SimBioSys - main\\data\\organized_data\\image\\...     (5, 800, 800)\n",
       "11  D:\\SimBioSys - main\\data\\organized_data\\image\\...     (5, 800, 800)\n",
       "12  D:\\SimBioSys - main\\data\\organized_data\\image\\...     (5, 800, 800)\n",
       "4   D:\\SimBioSys - main\\data\\organized_data\\image\\...  (7, 400, 400, 4)\n",
       "3   D:\\SimBioSys - main\\data\\organized_data\\image\\...  (7, 400, 400, 4)\n",
       "2   D:\\SimBioSys - main\\data\\organized_data\\image\\...  (7, 400, 400, 4)\n",
       "1   D:\\SimBioSys - main\\data\\organized_data\\image\\...  (7, 400, 400, 4)\n",
       "0   D:\\SimBioSys - main\\data\\organized_data\\image\\...  (7, 400, 400, 4)\n",
       "24  D:\\SimBioSys - main\\data\\organized_data\\image\\...     (7, 800, 800)\n",
       "25  D:\\SimBioSys - main\\data\\organized_data\\image\\...     (7, 800, 800)\n",
       "26  D:\\SimBioSys - main\\data\\organized_data\\image\\...     (7, 800, 800)\n",
       "9   D:\\SimBioSys - main\\data\\organized_data\\image\\...  (8, 400, 400, 4)\n",
       "8   D:\\SimBioSys - main\\data\\organized_data\\image\\...  (8, 400, 400, 4)\n",
       "7   D:\\SimBioSys - main\\data\\organized_data\\image\\...  (8, 400, 400, 4)\n",
       "6   D:\\SimBioSys - main\\data\\organized_data\\image\\...  (8, 400, 400, 4)\n",
       "5   D:\\SimBioSys - main\\data\\organized_data\\image\\...  (8, 400, 400, 4)\n",
       "10  D:\\SimBioSys - main\\data\\organized_data\\image\\...   (8, 2008, 2684)"
      ]
     },
     "execution_count": 40,
     "metadata": {},
     "output_type": "execute_result"
    }
   ],
   "source": [
    "outlier_images_df = pd.DataFrame(\n",
    "    {'path': required_image_paths,\n",
    "     'dims': required_image_dims,\n",
    "    })\n",
    "outlier_images_df = outlier_images_df.sort_values(by=['dims']).copy()\n",
    "outlier_images_df"
   ]
  },
  {
   "cell_type": "code",
   "execution_count": 41,
   "metadata": {},
   "outputs": [
    {
     "name": "stdout",
     "output_type": "stream",
     "text": [
      "Image Dims: (5, 800, 800), Mask Dims: (800, 800)\n",
      "Image Dims: (5, 800, 800), Mask Dims: (800, 800)\n",
      "Image Dims: (5, 800, 800), Mask Dims: (800, 800)\n",
      "Image Dims: (5, 800, 800), Mask Dims: (800, 800)\n",
      "Image Dims: (5, 800, 800), Mask Dims: (800, 800)\n",
      "Image Dims: (5, 800, 800), Mask Dims: (800, 800)\n",
      "Image Dims: (5, 800, 800), Mask Dims: (800, 800)\n",
      "Image Dims: (5, 800, 800), Mask Dims: (800, 800)\n",
      "Image Dims: (5, 800, 800), Mask Dims: (800, 800)\n",
      "Image Dims: (5, 800, 800), Mask Dims: (800, 800)\n",
      "Image Dims: (5, 800, 800), Mask Dims: (800, 800)\n",
      "Image Dims: (5, 800, 800), Mask Dims: (800, 800)\n",
      "Image Dims: (5, 800, 800), Mask Dims: (800, 800)\n",
      "Image Dims: (5, 800, 800), Mask Dims: (800, 800)\n",
      "Image Dims: (5, 800, 800), Mask Dims: (800, 800)\n",
      "Image Dims: (7, 400, 400, 4), Mask Dims: (400, 400)\n",
      "Image Dims: (7, 400, 400, 4), Mask Dims: (400, 400)\n",
      "Image Dims: (7, 400, 400, 4), Mask Dims: (400, 400)\n",
      "Image Dims: (7, 400, 400, 4), Mask Dims: (400, 400)\n",
      "Image Dims: (7, 400, 400, 4), Mask Dims: (400, 400)\n",
      "Image Dims: (7, 800, 800), Mask Dims: (800, 800)\n",
      "Image Dims: (7, 800, 800), Mask Dims: (800, 800)\n",
      "Image Dims: (7, 800, 800), Mask Dims: (800, 800)\n",
      "Image Dims: (8, 400, 400, 4), Mask Dims: (400, 400)\n",
      "Image Dims: (8, 400, 400, 4), Mask Dims: (400, 400)\n",
      "Image Dims: (8, 400, 400, 4), Mask Dims: (400, 400)\n",
      "Image Dims: (8, 400, 400, 4), Mask Dims: (400, 400)\n",
      "Image Dims: (8, 400, 400, 4), Mask Dims: (400, 400)\n",
      "Image Dims: (8, 2008, 2684), Mask Dims: (400, 400)\n"
     ]
    }
   ],
   "source": [
    "mask_paths = get_files_wrt_extension(MASK_DIR, \".png\")\n",
    "for i in range(29):\n",
    "    test_case = outlier_images_df.iloc[i]\n",
    "    test_sample = os.path.basename(test_case.path).split('-')[0]\n",
    "    for mask in mask_paths:\n",
    "        if test_sample in mask:\n",
    "            test_mask = mask\n",
    "            break\n",
    "    print(f\"Image Dims: {test_case.dims}, Mask Dims: {imread(test_mask).shape}\")"
   ]
  },
  {
   "cell_type": "code",
   "execution_count": 45,
   "metadata": {},
   "outputs": [
    {
     "data": {
      "text/plain": [
       "['D:\\\\SimBioSys - main\\\\data\\\\organized_data\\\\image\\\\codex_ln(1700,2600)-crop_tiff.tif',\n",
       " 'D:\\\\SimBioSys - main\\\\data\\\\organized_data\\\\image\\\\codex_ln(2400,800)-crop_tif.tif',\n",
       " 'D:\\\\SimBioSys - main\\\\data\\\\organized_data\\\\image\\\\codex_ln(3200,800)-crop_tif.tif',\n",
       " 'D:\\\\SimBioSys - main\\\\data\\\\organized_data\\\\image\\\\codex_ln(4500,2000)-crop_tif.tif',\n",
       " 'D:\\\\SimBioSys - main\\\\data\\\\organized_data\\\\image\\\\codex_ln(5900,2600)-crop_tif.tif',\n",
       " 'D:\\\\SimBioSys - main\\\\data\\\\organized_data\\\\image\\\\codex_tnsl(4200,5200)-crop_tif.tif',\n",
       " 'D:\\\\SimBioSys - main\\\\data\\\\organized_data\\\\image\\\\codex_tnsl(4900,3600)-crop_tif.tif',\n",
       " 'D:\\\\SimBioSys - main\\\\data\\\\organized_data\\\\image\\\\codex_tnsl(4900,5150)-crop_tif.tif',\n",
       " 'D:\\\\SimBioSys - main\\\\data\\\\organized_data\\\\image\\\\codex_tnsl(5300,3600)-crop_tif.tif',\n",
       " 'D:\\\\SimBioSys - main\\\\data\\\\organized_data\\\\image\\\\codex_tnsl(5600,4700)-crop_tif.tif',\n",
       " 'D:\\\\SimBioSys - main\\\\data\\\\organized_data\\\\image\\\\p03-10012(56707.13038)650,600-crop_tif.tif',\n",
       " 'D:\\\\SimBioSys - main\\\\data\\\\organized_data\\\\image\\\\pdac(35000,27720)6800,3050-crop_tif.tif',\n",
       " 'D:\\\\SimBioSys - main\\\\data\\\\organized_data\\\\image\\\\pdac(35000,27720)8500,11800-crop_tif.tif',\n",
       " 'D:\\\\SimBioSys - main\\\\data\\\\organized_data\\\\image\\\\spleen(0,0)1075,500-crop_tif.tif',\n",
       " 'D:\\\\SimBioSys - main\\\\data\\\\organized_data\\\\image\\\\spleen(0,0)1700,1250-crop_tif.tif',\n",
       " 'D:\\\\SimBioSys - main\\\\data\\\\organized_data\\\\image\\\\spleen(0,0)2450,600-crop_tif.tif',\n",
       " 'D:\\\\SimBioSys - main\\\\data\\\\organized_data\\\\image\\\\spleen(0,0)4200,1000-crop_tif.tif',\n",
       " 'D:\\\\SimBioSys - main\\\\data\\\\organized_data\\\\image\\\\spleen(0,0)800,2450-crop_tif.tif',\n",
       " 'D:\\\\SimBioSys - main\\\\data\\\\organized_data\\\\image\\\\zp-10001(13500,16632)11911,6470-crop_tif.tif',\n",
       " 'D:\\\\SimBioSys - main\\\\data\\\\organized_data\\\\image\\\\zp-10001(13500,16632)12315,7165-crop_tif.tif',\n",
       " 'D:\\\\SimBioSys - main\\\\data\\\\organized_data\\\\image\\\\zp-10001(13500,16632)12611,7970-crop_tif.tif',\n",
       " 'D:\\\\SimBioSys - main\\\\data\\\\organized_data\\\\image\\\\zp-10001(13500,16632)7611,2870-crop_tif.tif',\n",
       " 'D:\\\\SimBioSys - main\\\\data\\\\organized_data\\\\image\\\\zp-10001(13500,16632)8411,3195-crop_tif.tif',\n",
       " 'D:\\\\SimBioSys - main\\\\data\\\\organized_data\\\\image\\\\zp-10001(6750,2000)3512,2569-crop_tif.tif',\n",
       " 'D:\\\\SimBioSys - main\\\\data\\\\organized_data\\\\image\\\\zp-10002(0,0)200,800-crop_tif.tif',\n",
       " 'D:\\\\SimBioSys - main\\\\data\\\\organized_data\\\\image\\\\zp-10002(0,0)3000,6300-crop_tif.tif',\n",
       " 'D:\\\\SimBioSys - main\\\\data\\\\organized_data\\\\image\\\\zp-10002(0,0)800,3600-crop_tif.tif',\n",
       " 'D:\\\\SimBioSys - main\\\\data\\\\organized_data\\\\image\\\\zp-9999(0,0)18932,11868-crop_tif.tif',\n",
       " 'D:\\\\SimBioSys - main\\\\data\\\\organized_data\\\\image\\\\zp-9999(0,0)39960,9739-crop_tif.tif']"
      ]
     },
     "execution_count": 45,
     "metadata": {},
     "output_type": "execute_result"
    }
   ],
   "source": [
    "sorted(outlier_images_df.path.values)"
   ]
  },
  {
   "attachments": {},
   "cell_type": "markdown",
   "metadata": {},
   "source": [
    "*On observing that paths, we realize that the problematic data are those from the CODEX and Zeiss platforms. Ideally, if we remove them from the group, we should have 133 samples of the same image and mask sizes. Let's confirm that theory*"
   ]
  },
  {
   "cell_type": "code",
   "execution_count": 46,
   "metadata": {},
   "outputs": [],
   "source": [
    "vectra_path = r\"D:\\SimBioSys - main\\data\\rough_data\\Vectra\""
   ]
  },
  {
   "cell_type": "code",
   "execution_count": 47,
   "metadata": {},
   "outputs": [],
   "source": [
    "vectra_image_paths = get_files_wrt_extension(vectra_path, \".tif\")\n",
    "vectra_mask_paths = get_files_wrt_extension(vectra_path, \".png\")"
   ]
  },
  {
   "cell_type": "code",
   "execution_count": 49,
   "metadata": {},
   "outputs": [
    {
     "name": "stdout",
     "output_type": "stream",
     "text": [
      "Number of Images: 133\n",
      "Number of Masks: 133\n"
     ]
    }
   ],
   "source": [
    "print(f\"Number of Images: {len(vectra_image_paths)}\")\n",
    "print(f\"Number of Masks: {len(vectra_mask_paths)}\")"
   ]
  },
  {
   "cell_type": "code",
   "execution_count": 50,
   "metadata": {},
   "outputs": [],
   "source": [
    "vectra_image_dims = []\n",
    "vectra_mask_dims = []\n",
    "for img_path, mask_path in zip(vectra_image_paths, vectra_mask_paths):\n",
    "    vectra_image_dims.append(imread(img_path).shape)\n",
    "    vectra_mask_dims.append(imread(mask_path).shape)"
   ]
  },
  {
   "cell_type": "code",
   "execution_count": 51,
   "metadata": {},
   "outputs": [
    {
     "data": {
      "text/plain": [
       "{(8, 400, 400), (8, 2008, 2684)}"
      ]
     },
     "execution_count": 51,
     "metadata": {},
     "output_type": "execute_result"
    }
   ],
   "source": [
    "set(vectra_image_dims)"
   ]
  },
  {
   "cell_type": "code",
   "execution_count": 52,
   "metadata": {},
   "outputs": [
    {
     "data": {
      "text/plain": [
       "{(400, 400)}"
      ]
     },
     "execution_count": 52,
     "metadata": {},
     "output_type": "execute_result"
    }
   ],
   "source": [
    "set(vectra_mask_dims)"
   ]
  },
  {
   "attachments": {},
   "cell_type": "markdown",
   "metadata": {},
   "source": [
    "*Now we see that in Vectra, we have 132 perfect samples and one outlier. We'll the find the path to the image and mask and verify if the (8, 2008, 2684) dimensions is just an error in the dataset and if it  can be cropped down to (8, 400, 400). We'll find the path here and do the verification using ImageJ and it's plugins.*"
   ]
  },
  {
   "cell_type": "code",
   "execution_count": 53,
   "metadata": {},
   "outputs": [
    {
     "name": "stdout",
     "output_type": "stream",
     "text": [
      "Outlier Path: D:\\SimBioSys - main\\data\\rough_data\\Vectra\\p03-10012(56707.13038)650,600-crop_tif.tif\n"
     ]
    }
   ],
   "source": [
    "outlier_index = vectra_image_dims.index((8, 2008, 2684))\n",
    "print(f\"Outlier Path: {vectra_image_paths[outlier_index]}\")"
   ]
  },
  {
   "attachments": {},
   "cell_type": "markdown",
   "metadata": {},
   "source": [
    "*On checking the samples, it was observed that original image can be cropped to the required dimension because the mask is only for a specific crop of that image. We'll seperate it from the original dataset by renaming and crop using ImageJ. Once that's done, we'll add it back to our main data directory as follows:*"
   ]
  },
  {
   "cell_type": "code",
   "execution_count": 57,
   "metadata": {},
   "outputs": [],
   "source": [
    "outlier_path = vectra_image_paths[outlier_index]\n",
    "outlier_dir = os.path.dirname(outlier_path)\n",
    "renamed_path = os.path.join(outlier_dir, \"to_be_cropped.tiff\")\n",
    "os.rename(outlier_path, renamed_path)"
   ]
  },
  {
   "cell_type": "code",
   "execution_count": 75,
   "metadata": {},
   "outputs": [
    {
     "data": {
      "text/plain": [
       "'D:\\\\SimBioSys - main\\\\data\\\\organized_data\\\\image\\\\p03-10012(56707.13038)650,600-crop_tif.tif'"
      ]
     },
     "execution_count": 75,
     "metadata": {},
     "output_type": "execute_result"
    }
   ],
   "source": [
    "shutil.copy2(outlier_path, r\"D:\\SimBioSys - main\\data\\organized_data\\image\\p03-10012(56707.13038)650,600-crop_tif.tif\")"
   ]
  },
  {
   "attachments": {},
   "cell_type": "markdown",
   "metadata": {},
   "source": [
    "*After cropping, I've verified with ImageJ that it fit the standards we kept. We'll re-run the earlier script to check if the dataset is proper*"
   ]
  },
  {
   "cell_type": "code",
   "execution_count": 81,
   "metadata": {},
   "outputs": [],
   "source": [
    "image_paths = get_files_wrt_extension(IMG_DIR, \".tif\")"
   ]
  },
  {
   "cell_type": "code",
   "execution_count": 82,
   "metadata": {},
   "outputs": [],
   "source": [
    "image_array_list = [np.array(imread(img)) for img in image_paths]"
   ]
  },
  {
   "cell_type": "code",
   "execution_count": 83,
   "metadata": {},
   "outputs": [
    {
     "name": "stdout",
     "output_type": "stream",
     "text": [
      "161\n"
     ]
    }
   ],
   "source": [
    "#Number of Images\n",
    "print(len(image_array_list))"
   ]
  },
  {
   "cell_type": "code",
   "execution_count": 84,
   "metadata": {},
   "outputs": [],
   "source": [
    "#Dimensions\n",
    "img_dims = [img.shape for img in image_array_list]"
   ]
  },
  {
   "cell_type": "code",
   "execution_count": 85,
   "metadata": {},
   "outputs": [
    {
     "name": "stdout",
     "output_type": "stream",
     "text": [
      "[(5, 800, 800) (7, 400, 400, 4) (7, 800, 800) (8, 400, 400)\n",
      " (8, 400, 400, 4)]\n"
     ]
    },
    {
     "name": "stderr",
     "output_type": "stream",
     "text": [
      "c:\\Users\\gopik\\anaconda3\\envs\\programming\\lib\\site-packages\\numpy\\lib\\arraysetops.py:272: VisibleDeprecationWarning: Creating an ndarray from ragged nested sequences (which is a list-or-tuple of lists-or-tuples-or ndarrays with different lengths or shapes) is deprecated. If you meant to do this, you must specify 'dtype=object' when creating the ndarray.\n",
      "  ar = np.asanyarray(ar)\n"
     ]
    }
   ],
   "source": [
    "#Unique dimensions for images in the dataset\n",
    "print(np.unique(img_dims))"
   ]
  },
  {
   "cell_type": "code",
   "execution_count": 86,
   "metadata": {},
   "outputs": [
    {
     "name": "stdout",
     "output_type": "stream",
     "text": [
      "{(5, 800, 800): 15, (7, 400, 400, 4): 5, (7, 800, 800): 3, (8, 400, 400): 133, (8, 400, 400, 4): 5}\n"
     ]
    }
   ],
   "source": [
    "#Number of images for each set of dimensions\n",
    "dim, count = np.unique(img_dims, return_counts=True)\n",
    "img_counter = {d : c for d, c in zip(dim, count)}\n",
    "print(img_counter)"
   ]
  },
  {
   "cell_type": "code",
   "execution_count": 87,
   "metadata": {},
   "outputs": [
    {
     "data": {
      "image/png": "[encoded data removed]",
      "text/plain": [
       "<Figure size 1000x600 with 1 Axes>"
      ]
     },
     "metadata": {},
     "output_type": "display_data"
    }
   ],
   "source": [
    "plt.figure(figsize=(10, 6)) \n",
    "plt.bar(range(len(dim)), count)\n",
    "plt.xticks(range(len(dim)), dim)\n",
    "plt.show()"
   ]
  },
  {
   "attachments": {},
   "cell_type": "markdown",
   "metadata": {},
   "source": [
    "*At this stage, we have a dataset which is heavily skewed to one set of dimensions. Therefore we have 3 possible options going forward.*\n",
    "1. Drop the outlier data and use the remaining data to create the model and create a Proof-Of-Concept.\n",
    "2. Invest time into bringing outlier data into the same dimensions as the main dataset.\n",
    "3. Develop different models to work on different data dimensions.\n",
    "\n",
    "The third option is not viable at this point because of the lack of data required sufficiently train the model for those dimension. The second option is a viable, however it would require extensive research into figuring out what would the correct method to resize the model without having extensive loss in information in the process. Therefore, we'll proceed with the first step and establish a working model provide a proof of concept."
   ]
  },
  {
   "cell_type": "code",
   "execution_count": null,
   "metadata": {},
   "outputs": [],
   "source": []
  },
  {
   "cell_type": "code",
   "execution_count": null,
   "metadata": {},
   "outputs": [],
   "source": []
  },
  {
   "cell_type": "code",
   "execution_count": null,
   "metadata": {},
   "outputs": [],
   "source": []
  },
  {
   "cell_type": "code",
   "execution_count": null,
   "metadata": {},
   "outputs": [],
   "source": []
  },
  {
   "cell_type": "code",
   "execution_count": null,
   "metadata": {},
   "outputs": [],
   "source": []
  },
  {
   "cell_type": "code",
   "execution_count": 42,
   "metadata": {},
   "outputs": [
    {
     "name": "stdout",
     "output_type": "stream",
     "text": [
      "161\n",
      "{(400, 400): 143, (800, 800): 18}\n"
     ]
    }
   ],
   "source": [
    "mask_paths = get_files_wrt_extension(MASK_DIR, \".png\")\n",
    "mask_array_list = [np.array(imageio.imread(mask)) for mask in mask_paths]\n",
    "#Number of Masks\n",
    "print(len(mask_array_list))\n",
    "mask_dims = [tuple(mask.shape) for mask in mask_array_list]\n",
    "#Number of masks for each set of dimensions\n",
    "mask_counter = {}\n",
    "for dim in mask_dims:\n",
    "    if dim in mask_counter:\n",
    "        mask_counter[dim]+=1\n",
    "    else:\n",
    "        mask_counter[dim] = 1\n",
    "print(mask_counter)"
   ]
  },
  {
   "cell_type": "code",
   "execution_count": null,
   "metadata": {},
   "outputs": [],
   "source": []
  }
 ],
 "metadata": {
  "kernelspec": {
   "display_name": "programming",
   "language": "python",
   "name": "python3"
  },
  "language_info": {
   "codemirror_mode": {
    "name": "ipython",
    "version": 3
   },
   "file_extension": ".py",
   "mimetype": "text/x-python",
   "name": "python",
   "nbconvert_exporter": "python",
   "pygments_lexer": "ipython3",
   "version": "3.9.16"
  },
  "orig_nbformat": 4
 },
 "nbformat": 4,
 "nbformat_minor": 2
}
